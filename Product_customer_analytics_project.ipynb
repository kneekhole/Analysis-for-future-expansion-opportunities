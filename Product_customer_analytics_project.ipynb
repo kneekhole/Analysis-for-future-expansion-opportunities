{
 "cells": [
  {
   "cell_type": "markdown",
   "metadata": {},
   "source": [
    "## <a id='1'></a>Introduction \n",
    "\n",
    "A Vehicle Distributors company has approached us with a dataset analysis task to help them make critical decisions regarding potential future expansion. The objective of this project is to address their inquiries and provide data-driven answers by examining the available data.\n",
    "\n",
    "The database contains eight tables:\n",
    "\n",
    " * Customers: customer data\n",
    " * Employees: all employee information\n",
    " * Offices: sales office information\n",
    " * Orders: customers' sales orders\n",
    " * OrderDetails: sales order line for each sales order\n",
    " * Payments: customers' payment records\n",
    " * Products: a list of scale model cars\n",
    " * ProductLines: a list of product line categories\n",
    "\n",
    " Table relationships are shown below\n",
    "![datbase_tables.png](https://github.com/allar14/sales-records-database-analysis-SQL-/blob/main/datbase_tables.png?raw=true)"
   ]
  },
  {
   "cell_type": "code",
   "execution_count": 1,
   "metadata": {},
   "outputs": [],
   "source": [
    "# Importing all required libraries\n",
    "import sqlite3\n",
    "import pandas as pd"
   ]
  },
  {
   "cell_type": "code",
   "execution_count": 2,
   "metadata": {},
   "outputs": [
    {
     "name": "stdout",
     "output_type": "stream",
     "text": [
      "Requirement already satisfied: ipython-sql in /Users/chiamakaigbomezie/opt/anaconda3/lib/python3.8/site-packages (0.5.0)\n",
      "Requirement already satisfied: ipython in /Users/chiamakaigbomezie/opt/anaconda3/lib/python3.8/site-packages (from ipython-sql) (7.22.0)\n",
      "Requirement already satisfied: prettytable in /Users/chiamakaigbomezie/opt/anaconda3/lib/python3.8/site-packages (from ipython-sql) (3.8.0)\n",
      "Requirement already satisfied: sqlparse in /Users/chiamakaigbomezie/opt/anaconda3/lib/python3.8/site-packages (from ipython-sql) (0.4.4)\n",
      "Requirement already satisfied: ipython-genutils in /Users/chiamakaigbomezie/opt/anaconda3/lib/python3.8/site-packages (from ipython-sql) (0.2.0)\n",
      "Requirement already satisfied: six in /Users/chiamakaigbomezie/opt/anaconda3/lib/python3.8/site-packages (from ipython-sql) (1.15.0)\n",
      "Requirement already satisfied: sqlalchemy>=2.0 in /Users/chiamakaigbomezie/opt/anaconda3/lib/python3.8/site-packages (from ipython-sql) (2.0.19)\n",
      "Requirement already satisfied: typing-extensions>=4.2.0 in /Users/chiamakaigbomezie/opt/anaconda3/lib/python3.8/site-packages (from sqlalchemy>=2.0->ipython-sql) (4.7.1)\n",
      "Requirement already satisfied: greenlet!=0.4.17 in /Users/chiamakaigbomezie/opt/anaconda3/lib/python3.8/site-packages (from sqlalchemy>=2.0->ipython-sql) (1.0.0)\n",
      "Requirement already satisfied: pygments in /Users/chiamakaigbomezie/opt/anaconda3/lib/python3.8/site-packages (from ipython->ipython-sql) (2.8.1)\n",
      "Requirement already satisfied: pexpect>4.3 in /Users/chiamakaigbomezie/opt/anaconda3/lib/python3.8/site-packages (from ipython->ipython-sql) (4.8.0)\n",
      "Requirement already satisfied: appnope in /Users/chiamakaigbomezie/opt/anaconda3/lib/python3.8/site-packages (from ipython->ipython-sql) (0.1.2)\n",
      "Requirement already satisfied: jedi>=0.16 in /Users/chiamakaigbomezie/opt/anaconda3/lib/python3.8/site-packages (from ipython->ipython-sql) (0.17.2)\n",
      "Requirement already satisfied: pickleshare in /Users/chiamakaigbomezie/opt/anaconda3/lib/python3.8/site-packages (from ipython->ipython-sql) (0.7.5)\n",
      "Requirement already satisfied: backcall in /Users/chiamakaigbomezie/opt/anaconda3/lib/python3.8/site-packages (from ipython->ipython-sql) (0.2.0)\n",
      "Requirement already satisfied: prompt-toolkit!=3.0.0,!=3.0.1,<3.1.0,>=2.0.0 in /Users/chiamakaigbomezie/opt/anaconda3/lib/python3.8/site-packages (from ipython->ipython-sql) (3.0.17)\n",
      "Requirement already satisfied: traitlets>=4.2 in /Users/chiamakaigbomezie/opt/anaconda3/lib/python3.8/site-packages (from ipython->ipython-sql) (5.0.5)\n",
      "Requirement already satisfied: decorator in /Users/chiamakaigbomezie/opt/anaconda3/lib/python3.8/site-packages (from ipython->ipython-sql) (5.0.6)\n",
      "Requirement already satisfied: setuptools>=18.5 in /Users/chiamakaigbomezie/opt/anaconda3/lib/python3.8/site-packages (from ipython->ipython-sql) (52.0.0.post20210125)\n",
      "Requirement already satisfied: parso<0.8.0,>=0.7.0 in /Users/chiamakaigbomezie/opt/anaconda3/lib/python3.8/site-packages (from jedi>=0.16->ipython->ipython-sql) (0.7.0)\n",
      "Requirement already satisfied: ptyprocess>=0.5 in /Users/chiamakaigbomezie/opt/anaconda3/lib/python3.8/site-packages (from pexpect>4.3->ipython->ipython-sql) (0.7.0)\n",
      "Requirement already satisfied: wcwidth in /Users/chiamakaigbomezie/opt/anaconda3/lib/python3.8/site-packages (from prompt-toolkit!=3.0.0,!=3.0.1,<3.1.0,>=2.0.0->ipython->ipython-sql) (0.2.5)\n"
     ]
    }
   ],
   "source": [
    "!pip install ipython-sql"
   ]
  },
  {
   "cell_type": "code",
   "execution_count": 3,
   "metadata": {},
   "outputs": [
    {
     "name": "stdout",
     "output_type": "stream",
     "text": [
      "\n",
      "\u001b[1m[\u001b[0m\u001b[34;49mnotice\u001b[0m\u001b[1;39;49m]\u001b[0m\u001b[39;49m A new release of pip available: \u001b[0m\u001b[31;49m22.3.1\u001b[0m\u001b[39;49m -> \u001b[0m\u001b[32;49m23.2.1\u001b[0m\n",
      "\u001b[1m[\u001b[0m\u001b[34;49mnotice\u001b[0m\u001b[1;39;49m]\u001b[0m\u001b[39;49m To update, run: \u001b[0m\u001b[32;49mpip3 install --upgrade pip\u001b[0m\n",
      "Note: you may need to restart the kernel to use updated packages.\n"
     ]
    }
   ],
   "source": [
    "# loading the extension\n",
    "%pip install jupysql --quiet\n",
    "%load_ext sql\n",
    "\n",
    "# initializing the connection to existing database.\n",
    "%sql sqlite:///stores.db"
   ]
  },
  {
   "cell_type": "code",
   "execution_count": 4,
   "metadata": {},
   "outputs": [],
   "source": [
    "# connect to the database\n",
    "conn = sqlite3.connect('stores.db')"
   ]
  },
  {
   "cell_type": "markdown",
   "metadata": {},
   "source": [
    "<b>DATA EXPLORATION<b>"
   ]
  },
  {
   "cell_type": "code",
   "execution_count": 5,
   "metadata": {},
   "outputs": [],
   "source": [
    "# Displaying the first five lines from each table"
   ]
  },
  {
   "cell_type": "code",
   "execution_count": 6,
   "metadata": {},
   "outputs": [
    {
     "data": {
      "text/html": [
       "<span style=\"None\">Running query in &#x27;sqlite:///stores.db&#x27;</span>"
      ],
      "text/plain": [
       "Running query in 'sqlite:///stores.db'"
      ]
     },
     "metadata": {},
     "output_type": "display_data"
    },
    {
     "data": {
      "text/html": [
       "<table>\n",
       "    <thead>\n",
       "        <tr>\n",
       "            <th>customerNumber</th>\n",
       "            <th>customerName</th>\n",
       "            <th>contactLastName</th>\n",
       "            <th>contactFirstName</th>\n",
       "            <th>phone</th>\n",
       "            <th>addressLine1</th>\n",
       "            <th>addressLine2</th>\n",
       "            <th>city</th>\n",
       "            <th>state</th>\n",
       "            <th>postalCode</th>\n",
       "            <th>country</th>\n",
       "            <th>salesRepEmployeeNumber</th>\n",
       "            <th>creditLimit</th>\n",
       "        </tr>\n",
       "    </thead>\n",
       "    <tbody>\n",
       "        <tr>\n",
       "            <td>103</td>\n",
       "            <td>Atelier graphique</td>\n",
       "            <td>Schmitt</td>\n",
       "            <td>Carine </td>\n",
       "            <td>40.32.2555</td>\n",
       "            <td>54, rue Royale</td>\n",
       "            <td>None</td>\n",
       "            <td>Nantes</td>\n",
       "            <td>None</td>\n",
       "            <td>44000</td>\n",
       "            <td>France</td>\n",
       "            <td>1370</td>\n",
       "            <td>21000</td>\n",
       "        </tr>\n",
       "        <tr>\n",
       "            <td>112</td>\n",
       "            <td>Signal Gift Stores</td>\n",
       "            <td>King</td>\n",
       "            <td>Jean</td>\n",
       "            <td>7025551838</td>\n",
       "            <td>8489 Strong St.</td>\n",
       "            <td>None</td>\n",
       "            <td>Las Vegas</td>\n",
       "            <td>NV</td>\n",
       "            <td>83030</td>\n",
       "            <td>USA</td>\n",
       "            <td>1166</td>\n",
       "            <td>71800</td>\n",
       "        </tr>\n",
       "        <tr>\n",
       "            <td>114</td>\n",
       "            <td>Australian Collectors, Co.</td>\n",
       "            <td>Ferguson</td>\n",
       "            <td>Peter</td>\n",
       "            <td>03 9520 4555</td>\n",
       "            <td>636 St Kilda Road</td>\n",
       "            <td>Level 3</td>\n",
       "            <td>Melbourne</td>\n",
       "            <td>Victoria</td>\n",
       "            <td>3004</td>\n",
       "            <td>Australia</td>\n",
       "            <td>1611</td>\n",
       "            <td>117300</td>\n",
       "        </tr>\n",
       "        <tr>\n",
       "            <td>119</td>\n",
       "            <td>La Rochelle Gifts</td>\n",
       "            <td>Labrune</td>\n",
       "            <td>Janine </td>\n",
       "            <td>40.67.8555</td>\n",
       "            <td>67, rue des Cinquante Otages</td>\n",
       "            <td>None</td>\n",
       "            <td>Nantes</td>\n",
       "            <td>None</td>\n",
       "            <td>44000</td>\n",
       "            <td>France</td>\n",
       "            <td>1370</td>\n",
       "            <td>118200</td>\n",
       "        </tr>\n",
       "        <tr>\n",
       "            <td>121</td>\n",
       "            <td>Baane Mini Imports</td>\n",
       "            <td>Bergulfsen</td>\n",
       "            <td>Jonas </td>\n",
       "            <td>07-98 9555</td>\n",
       "            <td>Erling Skakkes gate 78</td>\n",
       "            <td>None</td>\n",
       "            <td>Stavern</td>\n",
       "            <td>None</td>\n",
       "            <td>4110</td>\n",
       "            <td>Norway</td>\n",
       "            <td>1504</td>\n",
       "            <td>81700</td>\n",
       "        </tr>\n",
       "    </tbody>\n",
       "</table>"
      ],
      "text/plain": [
       "+----------------+----------------------------+-----------------+------------------+--------------+------------------------------+--------------+-----------+----------+------------+-----------+------------------------+-------------+\n",
       "| customerNumber |        customerName        | contactLastName | contactFirstName |    phone     |         addressLine1         | addressLine2 |    city   |  state   | postalCode |  country  | salesRepEmployeeNumber | creditLimit |\n",
       "+----------------+----------------------------+-----------------+------------------+--------------+------------------------------+--------------+-----------+----------+------------+-----------+------------------------+-------------+\n",
       "|      103       |     Atelier graphique      |     Schmitt     |     Carine       |  40.32.2555  |        54, rue Royale        |     None     |   Nantes  |   None   |   44000    |   France  |          1370          |    21000    |\n",
       "|      112       |     Signal Gift Stores     |       King      |       Jean       |  7025551838  |       8489 Strong St.        |     None     | Las Vegas |    NV    |   83030    |    USA    |          1166          |    71800    |\n",
       "|      114       | Australian Collectors, Co. |     Ferguson    |      Peter       | 03 9520 4555 |      636 St Kilda Road       |   Level 3    | Melbourne | Victoria |    3004    | Australia |          1611          |    117300   |\n",
       "|      119       |     La Rochelle Gifts      |     Labrune     |     Janine       |  40.67.8555  | 67, rue des Cinquante Otages |     None     |   Nantes  |   None   |   44000    |   France  |          1370          |    118200   |\n",
       "|      121       |     Baane Mini Imports     |    Bergulfsen   |      Jonas       |  07-98 9555  |    Erling Skakkes gate 78    |     None     |  Stavern  |   None   |    4110    |   Norway  |          1504          |    81700    |\n",
       "+----------------+----------------------------+-----------------+------------------+--------------+------------------------------+--------------+-----------+----------+------------+-----------+------------------------+-------------+"
      ]
     },
     "execution_count": 6,
     "metadata": {},
     "output_type": "execute_result"
    }
   ],
   "source": [
    "%%sql\n",
    "SELECT *\n",
    "FROM customers LIMIT 5;"
   ]
  },
  {
   "cell_type": "code",
   "execution_count": 7,
   "metadata": {},
   "outputs": [
    {
     "data": {
      "text/html": [
       "<span style=\"None\">Running query in &#x27;sqlite:///stores.db&#x27;</span>"
      ],
      "text/plain": [
       "Running query in 'sqlite:///stores.db'"
      ]
     },
     "metadata": {},
     "output_type": "display_data"
    },
    {
     "data": {
      "text/html": [
       "<table>\n",
       "    <thead>\n",
       "        <tr>\n",
       "            <th>productCode</th>\n",
       "            <th>productName</th>\n",
       "            <th>productLine</th>\n",
       "            <th>productScale</th>\n",
       "            <th>productVendor</th>\n",
       "            <th>productDescription</th>\n",
       "            <th>quantityInStock</th>\n",
       "            <th>buyPrice</th>\n",
       "            <th>MSRP</th>\n",
       "        </tr>\n",
       "    </thead>\n",
       "    <tbody>\n",
       "        <tr>\n",
       "            <td>S10_1678</td>\n",
       "            <td>1969 Harley Davidson Ultimate Chopper</td>\n",
       "            <td>Motorcycles</td>\n",
       "            <td>1:10</td>\n",
       "            <td>Min Lin Diecast</td>\n",
       "            <td>This replica features working kickstand, front suspension, gear-shift lever, footbrake lever, drive chain, wheels and steering. All parts are particularly delicate due to their precise scale and require special care and attention.</td>\n",
       "            <td>7933</td>\n",
       "            <td>48.81</td>\n",
       "            <td>95.7</td>\n",
       "        </tr>\n",
       "        <tr>\n",
       "            <td>S10_1949</td>\n",
       "            <td>1952 Alpine Renault 1300</td>\n",
       "            <td>Classic Cars</td>\n",
       "            <td>1:10</td>\n",
       "            <td>Classic Metal Creations</td>\n",
       "            <td>Turnable front wheels; steering function; detailed interior; detailed engine; opening hood; opening trunk; opening doors; and detailed chassis.</td>\n",
       "            <td>7305</td>\n",
       "            <td>98.58</td>\n",
       "            <td>214.3</td>\n",
       "        </tr>\n",
       "        <tr>\n",
       "            <td>S10_2016</td>\n",
       "            <td>1996 Moto Guzzi 1100i</td>\n",
       "            <td>Motorcycles</td>\n",
       "            <td>1:10</td>\n",
       "            <td>Highway 66 Mini Classics</td>\n",
       "            <td>Official Moto Guzzi logos and insignias, saddle bags located on side of motorcycle, detailed engine, working steering, working suspension, two leather seats, luggage rack, dual exhaust pipes, small saddle bag located on handle bars, two-tone paint with chrome accents, superior die-cast detail , rotating wheels , working kick stand, diecast metal with plastic parts and baked enamel finish.</td>\n",
       "            <td>6625</td>\n",
       "            <td>68.99</td>\n",
       "            <td>118.94</td>\n",
       "        </tr>\n",
       "        <tr>\n",
       "            <td>S10_4698</td>\n",
       "            <td>2003 Harley-Davidson Eagle Drag Bike</td>\n",
       "            <td>Motorcycles</td>\n",
       "            <td>1:10</td>\n",
       "            <td>Red Start Diecast</td>\n",
       "            <td>Model features, official Harley Davidson logos and insignias, detachable rear wheelie bar, heavy diecast metal with resin parts, authentic multi-color tampo-printed graphics, separate engine drive belts, free-turning front fork, rotating tires and rear racing slick, certificate of authenticity, detailed engine, display stand\\r\\n, precision diecast replica, baked enamel finish, 1:10 scale model, removable fender, seat and tank cover piece for displaying the superior detail of the v-twin engine</td>\n",
       "            <td>5582</td>\n",
       "            <td>91.02</td>\n",
       "            <td>193.66</td>\n",
       "        </tr>\n",
       "        <tr>\n",
       "            <td>S10_4757</td>\n",
       "            <td>1972 Alfa Romeo GTA</td>\n",
       "            <td>Classic Cars</td>\n",
       "            <td>1:10</td>\n",
       "            <td>Motor City Art Classics</td>\n",
       "            <td>Features include: Turnable front wheels; steering function; detailed interior; detailed engine; opening hood; opening trunk; opening doors; and detailed chassis.</td>\n",
       "            <td>3252</td>\n",
       "            <td>85.68</td>\n",
       "            <td>136</td>\n",
       "        </tr>\n",
       "    </tbody>\n",
       "</table>"
      ],
      "text/plain": [
       "+-------------+---------------------------------------+--------------+--------------+--------------------------+-------------------------------------------------------------------------------------------------------------------------------------------------------------------------------------------------------------------------------------------------------------------------------------------------------------------------------------------------------------------------------------------------------------------------------------------------------------------------------------------------------------------+-----------------+----------+--------+\n",
       "| productCode |              productName              | productLine  | productScale |      productVendor       |                                                                                                                                                                                                                                                 productDescription                                                                                                                                                                                                                                                | quantityInStock | buyPrice |  MSRP  |\n",
       "+-------------+---------------------------------------+--------------+--------------+--------------------------+-------------------------------------------------------------------------------------------------------------------------------------------------------------------------------------------------------------------------------------------------------------------------------------------------------------------------------------------------------------------------------------------------------------------------------------------------------------------------------------------------------------------+-----------------+----------+--------+\n",
       "|   S10_1678  | 1969 Harley Davidson Ultimate Chopper | Motorcycles  |     1:10     |     Min Lin Diecast      |                                                                                                                                       This replica features working kickstand, front suspension, gear-shift lever, footbrake lever, drive chain, wheels and steering. All parts are particularly delicate due to their precise scale and require special care and attention.                                                                                                                                      |       7933      |  48.81   |  95.7  |\n",
       "|   S10_1949  |        1952 Alpine Renault 1300       | Classic Cars |     1:10     | Classic Metal Creations  |                                                                                                                                                                                  Turnable front wheels; steering function; detailed interior; detailed engine; opening hood; opening trunk; opening doors; and detailed chassis.                                                                                                                                                                                  |       7305      |  98.58   | 214.3  |\n",
       "|   S10_2016  |         1996 Moto Guzzi 1100i         | Motorcycles  |     1:10     | Highway 66 Mini Classics |                                                      Official Moto Guzzi logos and insignias, saddle bags located on side of motorcycle, detailed engine, working steering, working suspension, two leather seats, luggage rack, dual exhaust pipes, small saddle bag located on handle bars, two-tone paint with chrome accents, superior die-cast detail , rotating wheels , working kick stand, diecast metal with plastic parts and baked enamel finish.                                                      |       6625      |  68.99   | 118.94 |\n",
       "|   S10_4698  |  2003 Harley-Davidson Eagle Drag Bike | Motorcycles  |     1:10     |    Red Start Diecast     | Model features, official Harley Davidson logos and insignias, detachable rear wheelie bar, heavy diecast metal with resin parts, authentic multi-color tampo-printed graphics, separate engine drive belts, free-turning front fork, rotating tires and rear racing slick, certificate of authenticity, detailed engine, display stand\\r\\n, precision diecast replica, baked enamel finish, 1:10 scale model, removable fender, seat and tank cover piece for displaying the superior detail of the v-twin engine |       5582      |  91.02   | 193.66 |\n",
       "|   S10_4757  |          1972 Alfa Romeo GTA          | Classic Cars |     1:10     | Motor City Art Classics  |                                                                                                                                                                         Features include: Turnable front wheels; steering function; detailed interior; detailed engine; opening hood; opening trunk; opening doors; and detailed chassis.                                                                                                                                                                         |       3252      |  85.68   |  136   |\n",
       "+-------------+---------------------------------------+--------------+--------------+--------------------------+-------------------------------------------------------------------------------------------------------------------------------------------------------------------------------------------------------------------------------------------------------------------------------------------------------------------------------------------------------------------------------------------------------------------------------------------------------------------------------------------------------------------+-----------------+----------+--------+"
      ]
     },
     "execution_count": 7,
     "metadata": {},
     "output_type": "execute_result"
    }
   ],
   "source": [
    "%%sql\n",
    "SELECT *\n",
    "FROM products LIMIT 5;"
   ]
  },
  {
   "cell_type": "code",
   "execution_count": 8,
   "metadata": {},
   "outputs": [
    {
     "data": {
      "text/html": [
       "<span style=\"None\">Running query in &#x27;sqlite:///stores.db&#x27;</span>"
      ],
      "text/plain": [
       "Running query in 'sqlite:///stores.db'"
      ]
     },
     "metadata": {},
     "output_type": "display_data"
    },
    {
     "data": {
      "text/html": [
       "<table>\n",
       "    <thead>\n",
       "        <tr>\n",
       "            <th>productLine</th>\n",
       "            <th>textDescription</th>\n",
       "            <th>htmlDescription</th>\n",
       "            <th>image</th>\n",
       "        </tr>\n",
       "    </thead>\n",
       "    <tbody>\n",
       "        <tr>\n",
       "            <td>Classic Cars</td>\n",
       "            <td>Attention car enthusiasts: Make your wildest car ownership dreams come true. Whether you are looking for classic muscle cars, dream sports cars or movie-inspired miniatures, you will find great choices in this category. These replicas feature superb attention to detail and craftsmanship and offer features such as working steering system, opening forward compartment, opening rear trunk with removable spare wheel, 4-wheel independent spring suspension, and so on. The models range in size from 1:10 to 1:24 scale and include numerous limited edition and several out-of-production vehicles. All models include a certificate of authenticity from their manufacturers and come fully assembled and ready for display in the home or office.</td>\n",
       "            <td>None</td>\n",
       "            <td>None</td>\n",
       "        </tr>\n",
       "        <tr>\n",
       "            <td>Motorcycles</td>\n",
       "            <td>Our motorcycles are state of the art replicas of classic as well as contemporary motorcycle legends such as Harley Davidson, Ducati and Vespa. Models contain stunning details such as official logos, rotating wheels, working kickstand, front suspension, gear-shift lever, footbrake lever, and drive chain. Materials used include diecast and plastic. The models range in size from 1:10 to 1:50 scale and include numerous limited edition and several out-of-production vehicles. All models come fully assembled and ready for display in the home or office. Most include a certificate of authenticity.</td>\n",
       "            <td>None</td>\n",
       "            <td>None</td>\n",
       "        </tr>\n",
       "        <tr>\n",
       "            <td>Planes</td>\n",
       "            <td>Unique, diecast airplane and helicopter replicas suitable for collections, as well as home, office or classroom decorations. Models contain stunning details such as official logos and insignias, rotating jet engines and propellers, retractable wheels, and so on. Most come fully assembled and with a certificate of authenticity from their manufacturers.</td>\n",
       "            <td>None</td>\n",
       "            <td>None</td>\n",
       "        </tr>\n",
       "        <tr>\n",
       "            <td>Ships</td>\n",
       "            <td>The perfect holiday or anniversary gift for executives, clients, friends, and family. These handcrafted model ships are unique, stunning works of art that will be treasured for generations! They come fully assembled and ready for display in the home or office. We guarantee the highest quality, and best value.</td>\n",
       "            <td>None</td>\n",
       "            <td>None</td>\n",
       "        </tr>\n",
       "        <tr>\n",
       "            <td>Trains</td>\n",
       "            <td>Model trains are a rewarding hobby for enthusiasts of all ages. Whether you're looking for collectible wooden trains, electric streetcars or locomotives, you'll find a number of great choices for any budget within this category. The interactive aspect of trains makes toy trains perfect for young children. The wooden train sets are ideal for children under the age of 5.</td>\n",
       "            <td>None</td>\n",
       "            <td>None</td>\n",
       "        </tr>\n",
       "    </tbody>\n",
       "</table>"
      ],
      "text/plain": [
       "+--------------+-----------------------------------------------------------------------------------------------------------------------------------------------------------------------------------------------------------------------------------------------------------------------------------------------------------------------------------------------------------------------------------------------------------------------------------------------------------------------------------------------------------------------------------------------------------------------------------------------------------------------------------------------------------------------------------------------------------------------------------------------------------------+-----------------+-------+\n",
       "| productLine  |                                                                                                                                                                                                                                                                                                                                                                         textDescription                                                                                                                                                                                                                                                                                                                                                                         | htmlDescription | image |\n",
       "+--------------+-----------------------------------------------------------------------------------------------------------------------------------------------------------------------------------------------------------------------------------------------------------------------------------------------------------------------------------------------------------------------------------------------------------------------------------------------------------------------------------------------------------------------------------------------------------------------------------------------------------------------------------------------------------------------------------------------------------------------------------------------------------------+-----------------+-------+\n",
       "| Classic Cars | Attention car enthusiasts: Make your wildest car ownership dreams come true. Whether you are looking for classic muscle cars, dream sports cars or movie-inspired miniatures, you will find great choices in this category. These replicas feature superb attention to detail and craftsmanship and offer features such as working steering system, opening forward compartment, opening rear trunk with removable spare wheel, 4-wheel independent spring suspension, and so on. The models range in size from 1:10 to 1:24 scale and include numerous limited edition and several out-of-production vehicles. All models include a certificate of authenticity from their manufacturers and come fully assembled and ready for display in the home or office. |       None      |  None |\n",
       "| Motorcycles  |                                                                       Our motorcycles are state of the art replicas of classic as well as contemporary motorcycle legends such as Harley Davidson, Ducati and Vespa. Models contain stunning details such as official logos, rotating wheels, working kickstand, front suspension, gear-shift lever, footbrake lever, and drive chain. Materials used include diecast and plastic. The models range in size from 1:10 to 1:50 scale and include numerous limited edition and several out-of-production vehicles. All models come fully assembled and ready for display in the home or office. Most include a certificate of authenticity.                                                                       |       None      |  None |\n",
       "|    Planes    |                                                                                                                                                                                                Unique, diecast airplane and helicopter replicas suitable for collections, as well as home, office or classroom decorations. Models contain stunning details such as official logos and insignias, rotating jet engines and propellers, retractable wheels, and so on. Most come fully assembled and with a certificate of authenticity from their manufacturers.                                                                                                                                                                                                |       None      |  None |\n",
       "|    Ships     |                                                                                                                                                                                                                      The perfect holiday or anniversary gift for executives, clients, friends, and family. These handcrafted model ships are unique, stunning works of art that will be treasured for generations! They come fully assembled and ready for display in the home or office. We guarantee the highest quality, and best value.                                                                                                                                                                                                                     |       None      |  None |\n",
       "|    Trains    |                                                                                                                                                                                       Model trains are a rewarding hobby for enthusiasts of all ages. Whether you're looking for collectible wooden trains, electric streetcars or locomotives, you'll find a number of great choices for any budget within this category. The interactive aspect of trains makes toy trains perfect for young children. The wooden train sets are ideal for children under the age of 5.                                                                                                                                                                                       |       None      |  None |\n",
       "+--------------+-----------------------------------------------------------------------------------------------------------------------------------------------------------------------------------------------------------------------------------------------------------------------------------------------------------------------------------------------------------------------------------------------------------------------------------------------------------------------------------------------------------------------------------------------------------------------------------------------------------------------------------------------------------------------------------------------------------------------------------------------------------------+-----------------+-------+"
      ]
     },
     "execution_count": 8,
     "metadata": {},
     "output_type": "execute_result"
    }
   ],
   "source": [
    "%%sql\n",
    "SELECT *\n",
    "FROM productlines LIMIT 5;"
   ]
  },
  {
   "cell_type": "code",
   "execution_count": 9,
   "metadata": {},
   "outputs": [
    {
     "data": {
      "text/html": [
       "<span style=\"None\">Running query in &#x27;sqlite:///stores.db&#x27;</span>"
      ],
      "text/plain": [
       "Running query in 'sqlite:///stores.db'"
      ]
     },
     "metadata": {},
     "output_type": "display_data"
    },
    {
     "data": {
      "text/html": [
       "<table>\n",
       "    <thead>\n",
       "        <tr>\n",
       "            <th>orderNumber</th>\n",
       "            <th>orderDate</th>\n",
       "            <th>requiredDate</th>\n",
       "            <th>shippedDate</th>\n",
       "            <th>status</th>\n",
       "            <th>comments</th>\n",
       "            <th>customerNumber</th>\n",
       "        </tr>\n",
       "    </thead>\n",
       "    <tbody>\n",
       "        <tr>\n",
       "            <td>10100</td>\n",
       "            <td>2003-01-06</td>\n",
       "            <td>2003-01-13</td>\n",
       "            <td>2003-01-10</td>\n",
       "            <td>Shipped</td>\n",
       "            <td>None</td>\n",
       "            <td>363</td>\n",
       "        </tr>\n",
       "        <tr>\n",
       "            <td>10101</td>\n",
       "            <td>2003-01-09</td>\n",
       "            <td>2003-01-18</td>\n",
       "            <td>2003-01-11</td>\n",
       "            <td>Shipped</td>\n",
       "            <td>Check on availability.</td>\n",
       "            <td>128</td>\n",
       "        </tr>\n",
       "        <tr>\n",
       "            <td>10102</td>\n",
       "            <td>2003-01-10</td>\n",
       "            <td>2003-01-18</td>\n",
       "            <td>2003-01-14</td>\n",
       "            <td>Shipped</td>\n",
       "            <td>None</td>\n",
       "            <td>181</td>\n",
       "        </tr>\n",
       "        <tr>\n",
       "            <td>10103</td>\n",
       "            <td>2003-01-29</td>\n",
       "            <td>2003-02-07</td>\n",
       "            <td>2003-02-02</td>\n",
       "            <td>Shipped</td>\n",
       "            <td>None</td>\n",
       "            <td>121</td>\n",
       "        </tr>\n",
       "        <tr>\n",
       "            <td>10104</td>\n",
       "            <td>2003-01-31</td>\n",
       "            <td>2003-02-09</td>\n",
       "            <td>2003-02-01</td>\n",
       "            <td>Shipped</td>\n",
       "            <td>None</td>\n",
       "            <td>141</td>\n",
       "        </tr>\n",
       "    </tbody>\n",
       "</table>"
      ],
      "text/plain": [
       "+-------------+------------+--------------+-------------+---------+------------------------+----------------+\n",
       "| orderNumber | orderDate  | requiredDate | shippedDate |  status |        comments        | customerNumber |\n",
       "+-------------+------------+--------------+-------------+---------+------------------------+----------------+\n",
       "|    10100    | 2003-01-06 |  2003-01-13  |  2003-01-10 | Shipped |          None          |      363       |\n",
       "|    10101    | 2003-01-09 |  2003-01-18  |  2003-01-11 | Shipped | Check on availability. |      128       |\n",
       "|    10102    | 2003-01-10 |  2003-01-18  |  2003-01-14 | Shipped |          None          |      181       |\n",
       "|    10103    | 2003-01-29 |  2003-02-07  |  2003-02-02 | Shipped |          None          |      121       |\n",
       "|    10104    | 2003-01-31 |  2003-02-09  |  2003-02-01 | Shipped |          None          |      141       |\n",
       "+-------------+------------+--------------+-------------+---------+------------------------+----------------+"
      ]
     },
     "execution_count": 9,
     "metadata": {},
     "output_type": "execute_result"
    }
   ],
   "source": [
    "%%sql\n",
    "SELECT *\n",
    "FROM orders LIMIT 5;"
   ]
  },
  {
   "cell_type": "code",
   "execution_count": 10,
   "metadata": {},
   "outputs": [
    {
     "data": {
      "text/html": [
       "<span style=\"None\">Running query in &#x27;sqlite:///stores.db&#x27;</span>"
      ],
      "text/plain": [
       "Running query in 'sqlite:///stores.db'"
      ]
     },
     "metadata": {},
     "output_type": "display_data"
    },
    {
     "data": {
      "text/html": [
       "<table>\n",
       "    <thead>\n",
       "        <tr>\n",
       "            <th>orderNumber</th>\n",
       "            <th>productCode</th>\n",
       "            <th>quantityOrdered</th>\n",
       "            <th>priceEach</th>\n",
       "            <th>orderLineNumber</th>\n",
       "        </tr>\n",
       "    </thead>\n",
       "    <tbody>\n",
       "        <tr>\n",
       "            <td>10100</td>\n",
       "            <td>S18_1749</td>\n",
       "            <td>30</td>\n",
       "            <td>136</td>\n",
       "            <td>3</td>\n",
       "        </tr>\n",
       "        <tr>\n",
       "            <td>10100</td>\n",
       "            <td>S18_2248</td>\n",
       "            <td>50</td>\n",
       "            <td>55.09</td>\n",
       "            <td>2</td>\n",
       "        </tr>\n",
       "        <tr>\n",
       "            <td>10100</td>\n",
       "            <td>S18_4409</td>\n",
       "            <td>22</td>\n",
       "            <td>75.46</td>\n",
       "            <td>4</td>\n",
       "        </tr>\n",
       "        <tr>\n",
       "            <td>10100</td>\n",
       "            <td>S24_3969</td>\n",
       "            <td>49</td>\n",
       "            <td>35.29</td>\n",
       "            <td>1</td>\n",
       "        </tr>\n",
       "        <tr>\n",
       "            <td>10101</td>\n",
       "            <td>S18_2325</td>\n",
       "            <td>25</td>\n",
       "            <td>108.06</td>\n",
       "            <td>4</td>\n",
       "        </tr>\n",
       "    </tbody>\n",
       "</table>"
      ],
      "text/plain": [
       "+-------------+-------------+-----------------+-----------+-----------------+\n",
       "| orderNumber | productCode | quantityOrdered | priceEach | orderLineNumber |\n",
       "+-------------+-------------+-----------------+-----------+-----------------+\n",
       "|    10100    |   S18_1749  |        30       |    136    |        3        |\n",
       "|    10100    |   S18_2248  |        50       |   55.09   |        2        |\n",
       "|    10100    |   S18_4409  |        22       |   75.46   |        4        |\n",
       "|    10100    |   S24_3969  |        49       |   35.29   |        1        |\n",
       "|    10101    |   S18_2325  |        25       |   108.06  |        4        |\n",
       "+-------------+-------------+-----------------+-----------+-----------------+"
      ]
     },
     "execution_count": 10,
     "metadata": {},
     "output_type": "execute_result"
    }
   ],
   "source": [
    "%%sql\n",
    "SELECT *\n",
    "FROM orderdetails LIMIT 5;"
   ]
  },
  {
   "cell_type": "code",
   "execution_count": 11,
   "metadata": {},
   "outputs": [
    {
     "data": {
      "text/html": [
       "<span style=\"None\">Running query in &#x27;sqlite:///stores.db&#x27;</span>"
      ],
      "text/plain": [
       "Running query in 'sqlite:///stores.db'"
      ]
     },
     "metadata": {},
     "output_type": "display_data"
    },
    {
     "data": {
      "text/html": [
       "<table>\n",
       "    <thead>\n",
       "        <tr>\n",
       "            <th>customerNumber</th>\n",
       "            <th>checkNumber</th>\n",
       "            <th>paymentDate</th>\n",
       "            <th>amount</th>\n",
       "        </tr>\n",
       "    </thead>\n",
       "    <tbody>\n",
       "        <tr>\n",
       "            <td>103</td>\n",
       "            <td>HQ336336</td>\n",
       "            <td>2004-10-19</td>\n",
       "            <td>6066.78</td>\n",
       "        </tr>\n",
       "        <tr>\n",
       "            <td>103</td>\n",
       "            <td>JM555205</td>\n",
       "            <td>2003-06-05</td>\n",
       "            <td>14571.44</td>\n",
       "        </tr>\n",
       "        <tr>\n",
       "            <td>103</td>\n",
       "            <td>OM314933</td>\n",
       "            <td>2004-12-18</td>\n",
       "            <td>1676.14</td>\n",
       "        </tr>\n",
       "        <tr>\n",
       "            <td>112</td>\n",
       "            <td>BO864823</td>\n",
       "            <td>2004-12-17</td>\n",
       "            <td>14191.12</td>\n",
       "        </tr>\n",
       "        <tr>\n",
       "            <td>112</td>\n",
       "            <td>HQ55022</td>\n",
       "            <td>2003-06-06</td>\n",
       "            <td>32641.98</td>\n",
       "        </tr>\n",
       "    </tbody>\n",
       "</table>"
      ],
      "text/plain": [
       "+----------------+-------------+-------------+----------+\n",
       "| customerNumber | checkNumber | paymentDate |  amount  |\n",
       "+----------------+-------------+-------------+----------+\n",
       "|      103       |   HQ336336  |  2004-10-19 | 6066.78  |\n",
       "|      103       |   JM555205  |  2003-06-05 | 14571.44 |\n",
       "|      103       |   OM314933  |  2004-12-18 | 1676.14  |\n",
       "|      112       |   BO864823  |  2004-12-17 | 14191.12 |\n",
       "|      112       |   HQ55022   |  2003-06-06 | 32641.98 |\n",
       "+----------------+-------------+-------------+----------+"
      ]
     },
     "execution_count": 11,
     "metadata": {},
     "output_type": "execute_result"
    }
   ],
   "source": [
    "%%sql\n",
    "SELECT *\n",
    "FROM payments LIMIT 5;"
   ]
  },
  {
   "cell_type": "code",
   "execution_count": 12,
   "metadata": {},
   "outputs": [
    {
     "data": {
      "text/html": [
       "<span style=\"None\">Running query in &#x27;sqlite:///stores.db&#x27;</span>"
      ],
      "text/plain": [
       "Running query in 'sqlite:///stores.db'"
      ]
     },
     "metadata": {},
     "output_type": "display_data"
    },
    {
     "data": {
      "text/html": [
       "<table>\n",
       "    <thead>\n",
       "        <tr>\n",
       "            <th>employeeNumber</th>\n",
       "            <th>lastName</th>\n",
       "            <th>firstName</th>\n",
       "            <th>extension</th>\n",
       "            <th>email</th>\n",
       "            <th>officeCode</th>\n",
       "            <th>reportsTo</th>\n",
       "            <th>jobTitle</th>\n",
       "        </tr>\n",
       "    </thead>\n",
       "    <tbody>\n",
       "        <tr>\n",
       "            <td>1002</td>\n",
       "            <td>Murphy</td>\n",
       "            <td>Diane</td>\n",
       "            <td>x5800</td>\n",
       "            <td>dmurphy@classicmodelcars.com</td>\n",
       "            <td>1</td>\n",
       "            <td>None</td>\n",
       "            <td>President</td>\n",
       "        </tr>\n",
       "        <tr>\n",
       "            <td>1056</td>\n",
       "            <td>Patterson</td>\n",
       "            <td>Mary</td>\n",
       "            <td>x4611</td>\n",
       "            <td>mpatterso@classicmodelcars.com</td>\n",
       "            <td>1</td>\n",
       "            <td>1002</td>\n",
       "            <td>VP Sales</td>\n",
       "        </tr>\n",
       "        <tr>\n",
       "            <td>1076</td>\n",
       "            <td>Firrelli</td>\n",
       "            <td>Jeff</td>\n",
       "            <td>x9273</td>\n",
       "            <td>jfirrelli@classicmodelcars.com</td>\n",
       "            <td>1</td>\n",
       "            <td>1002</td>\n",
       "            <td>VP Marketing</td>\n",
       "        </tr>\n",
       "        <tr>\n",
       "            <td>1088</td>\n",
       "            <td>Patterson</td>\n",
       "            <td>William</td>\n",
       "            <td>x4871</td>\n",
       "            <td>wpatterson@classicmodelcars.com</td>\n",
       "            <td>6</td>\n",
       "            <td>1056</td>\n",
       "            <td>Sales Manager (APAC)</td>\n",
       "        </tr>\n",
       "        <tr>\n",
       "            <td>1102</td>\n",
       "            <td>Bondur</td>\n",
       "            <td>Gerard</td>\n",
       "            <td>x5408</td>\n",
       "            <td>gbondur@classicmodelcars.com</td>\n",
       "            <td>4</td>\n",
       "            <td>1056</td>\n",
       "            <td>Sale Manager (EMEA)</td>\n",
       "        </tr>\n",
       "    </tbody>\n",
       "</table>"
      ],
      "text/plain": [
       "+----------------+-----------+-----------+-----------+---------------------------------+------------+-----------+----------------------+\n",
       "| employeeNumber |  lastName | firstName | extension |              email              | officeCode | reportsTo |       jobTitle       |\n",
       "+----------------+-----------+-----------+-----------+---------------------------------+------------+-----------+----------------------+\n",
       "|      1002      |   Murphy  |   Diane   |   x5800   |   dmurphy@classicmodelcars.com  |     1      |    None   |      President       |\n",
       "|      1056      | Patterson |    Mary   |   x4611   |  mpatterso@classicmodelcars.com |     1      |    1002   |       VP Sales       |\n",
       "|      1076      |  Firrelli |    Jeff   |   x9273   |  jfirrelli@classicmodelcars.com |     1      |    1002   |     VP Marketing     |\n",
       "|      1088      | Patterson |  William  |   x4871   | wpatterson@classicmodelcars.com |     6      |    1056   | Sales Manager (APAC) |\n",
       "|      1102      |   Bondur  |   Gerard  |   x5408   |   gbondur@classicmodelcars.com  |     4      |    1056   | Sale Manager (EMEA)  |\n",
       "+----------------+-----------+-----------+-----------+---------------------------------+------------+-----------+----------------------+"
      ]
     },
     "execution_count": 12,
     "metadata": {},
     "output_type": "execute_result"
    }
   ],
   "source": [
    "%%sql\n",
    "SELECT *\n",
    "FROM employees LIMIT 5;"
   ]
  },
  {
   "cell_type": "code",
   "execution_count": 13,
   "metadata": {},
   "outputs": [
    {
     "data": {
      "text/html": [
       "<span style=\"None\">Running query in &#x27;sqlite:///stores.db&#x27;</span>"
      ],
      "text/plain": [
       "Running query in 'sqlite:///stores.db'"
      ]
     },
     "metadata": {},
     "output_type": "display_data"
    },
    {
     "data": {
      "text/html": [
       "<table>\n",
       "    <thead>\n",
       "        <tr>\n",
       "            <th>officeCode</th>\n",
       "            <th>city</th>\n",
       "            <th>phone</th>\n",
       "            <th>addressLine1</th>\n",
       "            <th>addressLine2</th>\n",
       "            <th>state</th>\n",
       "            <th>country</th>\n",
       "            <th>postalCode</th>\n",
       "            <th>territory</th>\n",
       "        </tr>\n",
       "    </thead>\n",
       "    <tbody>\n",
       "        <tr>\n",
       "            <td>1</td>\n",
       "            <td>San Francisco</td>\n",
       "            <td>+1 650 219 4782</td>\n",
       "            <td>100 Market Street</td>\n",
       "            <td>Suite 300</td>\n",
       "            <td>CA</td>\n",
       "            <td>USA</td>\n",
       "            <td>94080</td>\n",
       "            <td>NA</td>\n",
       "        </tr>\n",
       "        <tr>\n",
       "            <td>2</td>\n",
       "            <td>Boston</td>\n",
       "            <td>+1 215 837 0825</td>\n",
       "            <td>1550 Court Place</td>\n",
       "            <td>Suite 102</td>\n",
       "            <td>MA</td>\n",
       "            <td>USA</td>\n",
       "            <td>02107</td>\n",
       "            <td>NA</td>\n",
       "        </tr>\n",
       "        <tr>\n",
       "            <td>3</td>\n",
       "            <td>NYC</td>\n",
       "            <td>+1 212 555 3000</td>\n",
       "            <td>523 East 53rd Street</td>\n",
       "            <td>apt. 5A</td>\n",
       "            <td>NY</td>\n",
       "            <td>USA</td>\n",
       "            <td>10022</td>\n",
       "            <td>NA</td>\n",
       "        </tr>\n",
       "        <tr>\n",
       "            <td>4</td>\n",
       "            <td>Paris</td>\n",
       "            <td>+33 14 723 4404</td>\n",
       "            <td>43 Rue Jouffroy D'abbans</td>\n",
       "            <td>None</td>\n",
       "            <td>None</td>\n",
       "            <td>France</td>\n",
       "            <td>75017</td>\n",
       "            <td>EMEA</td>\n",
       "        </tr>\n",
       "        <tr>\n",
       "            <td>5</td>\n",
       "            <td>Tokyo</td>\n",
       "            <td>+81 33 224 5000</td>\n",
       "            <td>4-1 Kioicho</td>\n",
       "            <td>None</td>\n",
       "            <td>Chiyoda-Ku</td>\n",
       "            <td>Japan</td>\n",
       "            <td>102-8578</td>\n",
       "            <td>Japan</td>\n",
       "        </tr>\n",
       "    </tbody>\n",
       "</table>"
      ],
      "text/plain": [
       "+------------+---------------+-----------------+--------------------------+--------------+------------+---------+------------+-----------+\n",
       "| officeCode |      city     |      phone      |       addressLine1       | addressLine2 |   state    | country | postalCode | territory |\n",
       "+------------+---------------+-----------------+--------------------------+--------------+------------+---------+------------+-----------+\n",
       "|     1      | San Francisco | +1 650 219 4782 |    100 Market Street     |  Suite 300   |     CA     |   USA   |   94080    |     NA    |\n",
       "|     2      |     Boston    | +1 215 837 0825 |     1550 Court Place     |  Suite 102   |     MA     |   USA   |   02107    |     NA    |\n",
       "|     3      |      NYC      | +1 212 555 3000 |   523 East 53rd Street   |   apt. 5A    |     NY     |   USA   |   10022    |     NA    |\n",
       "|     4      |     Paris     | +33 14 723 4404 | 43 Rue Jouffroy D'abbans |     None     |    None    |  France |   75017    |    EMEA   |\n",
       "|     5      |     Tokyo     | +81 33 224 5000 |       4-1 Kioicho        |     None     | Chiyoda-Ku |  Japan  |  102-8578  |   Japan   |\n",
       "+------------+---------------+-----------------+--------------------------+--------------+------------+---------+------------+-----------+"
      ]
     },
     "execution_count": 13,
     "metadata": {},
     "output_type": "execute_result"
    }
   ],
   "source": [
    "%%sql\n",
    "SELECT *\n",
    "FROM offices LIMIT 5;"
   ]
  },
  {
   "cell_type": "markdown",
   "metadata": {},
   "source": [
    "<b>DATA ANALYSIS<b>"
   ]
  },
  {
   "cell_type": "code",
   "execution_count": 14,
   "metadata": {},
   "outputs": [],
   "source": [
    "# Retrieve in a single table the table name as a string, \n",
    "# the number of attributes and also the number of rows in each table."
   ]
  },
  {
   "cell_type": "code",
   "execution_count": 15,
   "metadata": {},
   "outputs": [
    {
     "data": {
      "text/html": [
       "<span style=\"None\">Running query in &#x27;sqlite:///stores.db&#x27;</span>"
      ],
      "text/plain": [
       "Running query in 'sqlite:///stores.db'"
      ]
     },
     "metadata": {},
     "output_type": "display_data"
    },
    {
     "data": {
      "text/html": [
       "<table>\n",
       "    <thead>\n",
       "        <tr>\n",
       "            <th>table_name</th>\n",
       "            <th>number_of_attributes</th>\n",
       "            <th>number_of_rows</th>\n",
       "        </tr>\n",
       "    </thead>\n",
       "    <tbody>\n",
       "        <tr>\n",
       "            <td>customers</td>\n",
       "            <td>13</td>\n",
       "            <td>122</td>\n",
       "        </tr>\n",
       "        <tr>\n",
       "            <td>products</td>\n",
       "            <td>9</td>\n",
       "            <td>110</td>\n",
       "        </tr>\n",
       "        <tr>\n",
       "            <td>productlines</td>\n",
       "            <td>4</td>\n",
       "            <td>7</td>\n",
       "        </tr>\n",
       "        <tr>\n",
       "            <td>orders</td>\n",
       "            <td>7</td>\n",
       "            <td>326</td>\n",
       "        </tr>\n",
       "        <tr>\n",
       "            <td>orderdetails</td>\n",
       "            <td>5</td>\n",
       "            <td>2996</td>\n",
       "        </tr>\n",
       "        <tr>\n",
       "            <td>payments</td>\n",
       "            <td>4</td>\n",
       "            <td>273</td>\n",
       "        </tr>\n",
       "        <tr>\n",
       "            <td>employees</td>\n",
       "            <td>8</td>\n",
       "            <td>23</td>\n",
       "        </tr>\n",
       "        <tr>\n",
       "            <td>offices</td>\n",
       "            <td>9</td>\n",
       "            <td>7</td>\n",
       "        </tr>\n",
       "    </tbody>\n",
       "</table>"
      ],
      "text/plain": [
       "+--------------+----------------------+----------------+\n",
       "|  table_name  | number_of_attributes | number_of_rows |\n",
       "+--------------+----------------------+----------------+\n",
       "|  customers   |          13          |      122       |\n",
       "|   products   |          9           |      110       |\n",
       "| productlines |          4           |       7        |\n",
       "|    orders    |          7           |      326       |\n",
       "| orderdetails |          5           |      2996      |\n",
       "|   payments   |          4           |      273       |\n",
       "|  employees   |          8           |       23       |\n",
       "|   offices    |          9           |       7        |\n",
       "+--------------+----------------------+----------------+"
      ]
     },
     "execution_count": 15,
     "metadata": {},
     "output_type": "execute_result"
    }
   ],
   "source": [
    "%%sql \n",
    "SELECT 'customers' table_name, count(*) number_of_attributes,(SELECT count(*)FROM customers ) number_of_rows FROM pragma_table_info('customers')\n",
    "UNION ALL\n",
    "SELECT 'products' table_name, count(*) number_of_attributes,(SELECT count(*)FROM products ) number_of_rows FROM pragma_table_info('products')\n",
    "UNION ALL\n",
    "SELECT 'productlines' table_name, count(*) number_of_attributes,(SELECT count(*)FROM productlines ) number_of_rows FROM pragma_table_info('productlines')\n",
    "UNION ALL\n",
    "SELECT 'orders' table_name, count(*) number_of_attributes,(SELECT count(*)FROM orders ) number_of_rows FROM pragma_table_info('orders')\n",
    "UNION ALL\n",
    "SELECT 'orderdetails' table_name, count(*) number_of_attributes,(SELECT count(*)FROM orderdetails ) number_of_rows FROM pragma_table_info('orderdetails')\n",
    "UNION ALL\n",
    "SELECT 'payments' table_name, count(*) number_of_attributes,(SELECT count(*)FROM payments ) number_of_rows FROM pragma_table_info('payments')\n",
    "UNION ALL\n",
    "SELECT 'employees' table_name, count(*) number_of_attributes,(SELECT count(*)FROM employees ) number_of_rows FROM pragma_table_info('employees')\n",
    "UNION ALL\n",
    "SELECT 'offices' table_name, count(*) number_of_attributes,(SELECT count(*)FROM offices ) number_of_rows FROM pragma_table_info('offices');"
   ]
  },
  {
   "cell_type": "markdown",
   "metadata": {},
   "source": [
    "Question 1: Which products should we order more or less of?\n",
    "\n",
    "This question refers to inventory reports, including low stock(products in demand) and product performance. \n",
    "- The low stock represents the guantity of the sum of each product ordered divided by the\n",
    "guantitv of product in stock.\n",
    "- The product performance represents the sum of sales per product.\n",
    "- Priority products for restocking are those with high product performance that are on the brink of being out ot stock.\n"
   ]
  },
  {
   "cell_type": "code",
   "execution_count": 33,
   "metadata": {},
   "outputs": [
    {
     "data": {
      "text/html": [
       "<span style=\"None\">Running query in &#x27;sqlite:///stores.db&#x27;</span>"
      ],
      "text/plain": [
       "Running query in 'sqlite:///stores.db'"
      ]
     },
     "metadata": {},
     "output_type": "display_data"
    },
    {
     "data": {
      "text/html": [
       "<table>\n",
       "    <thead>\n",
       "        <tr>\n",
       "            <th>productCode</th>\n",
       "            <th>productName</th>\n",
       "            <th>low_stock</th>\n",
       "            <th>product_performance</th>\n",
       "        </tr>\n",
       "    </thead>\n",
       "    <tbody>\n",
       "        <tr>\n",
       "            <td>S18_3232</td>\n",
       "            <td>1992 Ferrari 360 Spider red</td>\n",
       "            <td>0</td>\n",
       "            <td>276839.98</td>\n",
       "        </tr>\n",
       "        <tr>\n",
       "            <td>S12_1108</td>\n",
       "            <td>2001 Ferrari Enzo</td>\n",
       "            <td>0</td>\n",
       "            <td>190755.86</td>\n",
       "        </tr>\n",
       "        <tr>\n",
       "            <td>S10_1949</td>\n",
       "            <td>1952 Alpine Renault 1300</td>\n",
       "            <td>0</td>\n",
       "            <td>190017.96</td>\n",
       "        </tr>\n",
       "        <tr>\n",
       "            <td>S10_4698</td>\n",
       "            <td>2003 Harley-Davidson Eagle Drag Bike</td>\n",
       "            <td>0</td>\n",
       "            <td>170686.0</td>\n",
       "        </tr>\n",
       "        <tr>\n",
       "            <td>S12_1099</td>\n",
       "            <td>1968 Ford Mustang</td>\n",
       "            <td>13</td>\n",
       "            <td>161531.48</td>\n",
       "        </tr>\n",
       "        <tr>\n",
       "            <td>S12_3891</td>\n",
       "            <td>1969 Ford Falcon</td>\n",
       "            <td>0</td>\n",
       "            <td>152543.02</td>\n",
       "        </tr>\n",
       "        <tr>\n",
       "            <td>S18_1662</td>\n",
       "            <td>1980s Black Hawk Helicopter</td>\n",
       "            <td>0</td>\n",
       "            <td>144959.91</td>\n",
       "        </tr>\n",
       "        <tr>\n",
       "            <td>S18_2238</td>\n",
       "            <td>1998 Chrysler Plymouth Prowler</td>\n",
       "            <td>0</td>\n",
       "            <td>142530.63</td>\n",
       "        </tr>\n",
       "        <tr>\n",
       "            <td>S18_1749</td>\n",
       "            <td>1917 Grand Touring Sedan</td>\n",
       "            <td>0</td>\n",
       "            <td>140535.6</td>\n",
       "        </tr>\n",
       "        <tr>\n",
       "            <td>S12_2823</td>\n",
       "            <td>2002 Suzuki XREO</td>\n",
       "            <td>0</td>\n",
       "            <td>135767.03</td>\n",
       "        </tr>\n",
       "    </tbody>\n",
       "</table>\n",
       "<span style=\"font-style:italic;text-align:center;\">Truncated to <a href=\"https://jupysql.ploomber.io/en/latest/api/configuration.html#displaylimit\">displaylimit</a> of 10.</span>"
      ],
      "text/plain": [
       "+-------------+--------------------------------------+-----------+---------------------+\n",
       "| productCode |             productName              | low_stock | product_performance |\n",
       "+-------------+--------------------------------------+-----------+---------------------+\n",
       "|   S18_3232  |     1992 Ferrari 360 Spider red      |     0     |      276839.98      |\n",
       "|   S12_1108  |          2001 Ferrari Enzo           |     0     |      190755.86      |\n",
       "|   S10_1949  |       1952 Alpine Renault 1300       |     0     |      190017.96      |\n",
       "|   S10_4698  | 2003 Harley-Davidson Eagle Drag Bike |     0     |       170686.0      |\n",
       "|   S12_1099  |          1968 Ford Mustang           |     13    |      161531.48      |\n",
       "|   S12_3891  |           1969 Ford Falcon           |     0     |      152543.02      |\n",
       "|   S18_1662  |     1980s Black Hawk Helicopter      |     0     |      144959.91      |\n",
       "|   S18_2238  |    1998 Chrysler Plymouth Prowler    |     0     |      142530.63      |\n",
       "|   S18_1749  |       1917 Grand Touring Sedan       |     0     |       140535.6      |\n",
       "|   S12_2823  |           2002 Suzuki XREO           |     0     |      135767.03      |\n",
       "+-------------+--------------------------------------+-----------+---------------------+\n",
       "Truncated to displaylimit of 10."
      ]
     },
     "execution_count": 33,
     "metadata": {},
     "output_type": "execute_result"
    }
   ],
   "source": [
    "%%sql\n",
    "SELECT p.productCode, p.productName, SUM(od.quantityOrdered)/p.quantityInStock as low_stock , ROUND(SUM(od.quantityOrdered*priceEach),2) as product_performance\n",
    "FROM products p\n",
    "JOIN orderdetails od\n",
    "ON p.productCode = od.productCode\n",
    "GROUP BY p.productCode\n",
    "ORDER BY product_performance DESC;"
   ]
  },
  {
   "cell_type": "code",
   "execution_count": 34,
   "metadata": {},
   "outputs": [
    {
     "data": {
      "text/html": [
       "<span style=\"None\">Running query in &#x27;sqlite:///stores.db&#x27;</span>"
      ],
      "text/plain": [
       "Running query in 'sqlite:///stores.db'"
      ]
     },
     "metadata": {},
     "output_type": "display_data"
    },
    {
     "data": {
      "text/html": [
       "<table>\n",
       "    <thead>\n",
       "        <tr>\n",
       "            <th>productCode</th>\n",
       "            <th>productName</th>\n",
       "            <th>low_stock</th>\n",
       "        </tr>\n",
       "    </thead>\n",
       "    <tbody>\n",
       "        <tr>\n",
       "            <td>S24_2000</td>\n",
       "            <td>1960 BSA Gold Star DBD34</td>\n",
       "            <td>67.0</td>\n",
       "        </tr>\n",
       "        <tr>\n",
       "            <td>S12_1099</td>\n",
       "            <td>1968 Ford Mustang</td>\n",
       "            <td>13.0</td>\n",
       "        </tr>\n",
       "        <tr>\n",
       "            <td>S32_4289</td>\n",
       "            <td>1928 Ford Phaeton Deluxe</td>\n",
       "            <td>7.0</td>\n",
       "        </tr>\n",
       "        <tr>\n",
       "            <td>S32_1374</td>\n",
       "            <td>1997 BMW F650 ST</td>\n",
       "            <td>5.0</td>\n",
       "        </tr>\n",
       "        <tr>\n",
       "            <td>S72_3212</td>\n",
       "            <td>Pont Yacht</td>\n",
       "            <td>2.0</td>\n",
       "        </tr>\n",
       "        <tr>\n",
       "            <td>S700_3167</td>\n",
       "            <td>F/A 18 Hornet 1/72</td>\n",
       "            <td>1.0</td>\n",
       "        </tr>\n",
       "        <tr>\n",
       "            <td>S700_1938</td>\n",
       "            <td>The Mayflower</td>\n",
       "            <td>1.0</td>\n",
       "        </tr>\n",
       "        <tr>\n",
       "            <td>S50_4713</td>\n",
       "            <td>2002 Yamaha YZR M1</td>\n",
       "            <td>1.0</td>\n",
       "        </tr>\n",
       "        <tr>\n",
       "            <td>S32_3522</td>\n",
       "            <td>1996 Peterbilt 379 Stake Bed with Outrigger</td>\n",
       "            <td>1.0</td>\n",
       "        </tr>\n",
       "        <tr>\n",
       "            <td>S18_2795</td>\n",
       "            <td>1928 Mercedes-Benz SSK</td>\n",
       "            <td>1.0</td>\n",
       "        </tr>\n",
       "    </tbody>\n",
       "</table>\n",
       "<span style=\"font-style:italic;text-align:center;\">Truncated to <a href=\"https://jupysql.ploomber.io/en/latest/api/configuration.html#displaylimit\">displaylimit</a> of 10.</span>"
      ],
      "text/plain": [
       "+-------------+---------------------------------------------+-----------+\n",
       "| productCode |                 productName                 | low_stock |\n",
       "+-------------+---------------------------------------------+-----------+\n",
       "|   S24_2000  |           1960 BSA Gold Star DBD34          |    67.0   |\n",
       "|   S12_1099  |              1968 Ford Mustang              |    13.0   |\n",
       "|   S32_4289  |           1928 Ford Phaeton Deluxe          |    7.0    |\n",
       "|   S32_1374  |               1997 BMW F650 ST              |    5.0    |\n",
       "|   S72_3212  |                  Pont Yacht                 |    2.0    |\n",
       "|  S700_3167  |              F/A 18 Hornet 1/72             |    1.0    |\n",
       "|  S700_1938  |                The Mayflower                |    1.0    |\n",
       "|   S50_4713  |              2002 Yamaha YZR M1             |    1.0    |\n",
       "|   S32_3522  | 1996 Peterbilt 379 Stake Bed with Outrigger |    1.0    |\n",
       "|   S18_2795  |            1928 Mercedes-Benz SSK           |    1.0    |\n",
       "+-------------+---------------------------------------------+-----------+\n",
       "Truncated to displaylimit of 10."
      ]
     },
     "execution_count": 34,
     "metadata": {},
     "output_type": "execute_result"
    }
   ],
   "source": [
    "%%sql\n",
    "SELECT * \n",
    "FROM (SELECT p.productCode, p.productName, ROUND(SUM(od.quantityOrdered)/p.quantityInStock, 2) as low_stock\n",
    "      FROM products p\n",
    "      JOIN orderdetails od\n",
    "      ON p.productCode = od.productCode\n",
    "      GROUP BY p.productCode\n",
    "      ORDER BY low_stock DESC);"
   ]
  },
  {
   "cell_type": "code",
   "execution_count": 35,
   "metadata": {},
   "outputs": [
    {
     "data": {
      "text/html": [
       "<span style=\"None\">Running query in &#x27;sqlite:///stores.db&#x27;</span>"
      ],
      "text/plain": [
       "Running query in 'sqlite:///stores.db'"
      ]
     },
     "metadata": {},
     "output_type": "display_data"
    },
    {
     "data": {
      "text/html": [
       "<table>\n",
       "    <thead>\n",
       "        <tr>\n",
       "            <th>productCode</th>\n",
       "            <th>product_performance</th>\n",
       "        </tr>\n",
       "    </thead>\n",
       "    <tbody>\n",
       "        <tr>\n",
       "            <td>S18_3232</td>\n",
       "            <td>276839.98</td>\n",
       "        </tr>\n",
       "        <tr>\n",
       "            <td>S12_1108</td>\n",
       "            <td>190755.86</td>\n",
       "        </tr>\n",
       "        <tr>\n",
       "            <td>S10_1949</td>\n",
       "            <td>190017.96</td>\n",
       "        </tr>\n",
       "        <tr>\n",
       "            <td>S10_4698</td>\n",
       "            <td>170686.0</td>\n",
       "        </tr>\n",
       "        <tr>\n",
       "            <td>S12_1099</td>\n",
       "            <td>161531.48</td>\n",
       "        </tr>\n",
       "        <tr>\n",
       "            <td>S12_3891</td>\n",
       "            <td>152543.02</td>\n",
       "        </tr>\n",
       "        <tr>\n",
       "            <td>S18_1662</td>\n",
       "            <td>144959.91</td>\n",
       "        </tr>\n",
       "        <tr>\n",
       "            <td>S18_2238</td>\n",
       "            <td>142530.63</td>\n",
       "        </tr>\n",
       "        <tr>\n",
       "            <td>S18_1749</td>\n",
       "            <td>140535.6</td>\n",
       "        </tr>\n",
       "        <tr>\n",
       "            <td>S12_2823</td>\n",
       "            <td>135767.03</td>\n",
       "        </tr>\n",
       "    </tbody>\n",
       "</table>\n",
       "<span style=\"font-style:italic;text-align:center;\">Truncated to <a href=\"https://jupysql.ploomber.io/en/latest/api/configuration.html#displaylimit\">displaylimit</a> of 10.</span>"
      ],
      "text/plain": [
       "+-------------+---------------------+\n",
       "| productCode | product_performance |\n",
       "+-------------+---------------------+\n",
       "|   S18_3232  |      276839.98      |\n",
       "|   S12_1108  |      190755.86      |\n",
       "|   S10_1949  |      190017.96      |\n",
       "|   S10_4698  |       170686.0      |\n",
       "|   S12_1099  |      161531.48      |\n",
       "|   S12_3891  |      152543.02      |\n",
       "|   S18_1662  |      144959.91      |\n",
       "|   S18_2238  |      142530.63      |\n",
       "|   S18_1749  |       140535.6      |\n",
       "|   S12_2823  |      135767.03      |\n",
       "+-------------+---------------------+\n",
       "Truncated to displaylimit of 10."
      ]
     },
     "execution_count": 35,
     "metadata": {},
     "output_type": "execute_result"
    }
   ],
   "source": [
    "%%sql\n",
    "SELECT * \n",
    "FROM (SELECT productCode, ROUND(SUM(quantityOrdered*priceEach), 2) as product_performance\n",
    "      FROM orderdetails\n",
    "      GROUP BY productCode\n",
    "      ORDER BY product_performance DESC);"
   ]
  },
  {
   "cell_type": "code",
   "execution_count": 41,
   "metadata": {},
   "outputs": [
    {
     "data": {
      "text/html": [
       "<span style=\"None\">Running query in &#x27;sqlite:///stores.db&#x27;</span>"
      ],
      "text/plain": [
       "Running query in 'sqlite:///stores.db'"
      ]
     },
     "metadata": {},
     "output_type": "display_data"
    },
    {
     "data": {
      "text/html": [
       "<table>\n",
       "    <thead>\n",
       "        <tr>\n",
       "            <th>productCode</th>\n",
       "            <th>productName</th>\n",
       "            <th>productLine</th>\n",
       "        </tr>\n",
       "    </thead>\n",
       "    <tbody>\n",
       "        <tr>\n",
       "            <td>S10_1678</td>\n",
       "            <td>1969 Harley Davidson Ultimate Chopper</td>\n",
       "            <td>Motorcycles</td>\n",
       "        </tr>\n",
       "        <tr>\n",
       "            <td>S10_1949</td>\n",
       "            <td>1952 Alpine Renault 1300</td>\n",
       "            <td>Classic Cars</td>\n",
       "        </tr>\n",
       "        <tr>\n",
       "            <td>S10_2016</td>\n",
       "            <td>1996 Moto Guzzi 1100i</td>\n",
       "            <td>Motorcycles</td>\n",
       "        </tr>\n",
       "        <tr>\n",
       "            <td>S10_4698</td>\n",
       "            <td>2003 Harley-Davidson Eagle Drag Bike</td>\n",
       "            <td>Motorcycles</td>\n",
       "        </tr>\n",
       "        <tr>\n",
       "            <td>S10_4757</td>\n",
       "            <td>1972 Alfa Romeo GTA</td>\n",
       "            <td>Classic Cars</td>\n",
       "        </tr>\n",
       "        <tr>\n",
       "            <td>S10_4962</td>\n",
       "            <td>1962 LanciaA Delta 16V</td>\n",
       "            <td>Classic Cars</td>\n",
       "        </tr>\n",
       "        <tr>\n",
       "            <td>S12_1099</td>\n",
       "            <td>1968 Ford Mustang</td>\n",
       "            <td>Classic Cars</td>\n",
       "        </tr>\n",
       "        <tr>\n",
       "            <td>S12_1108</td>\n",
       "            <td>2001 Ferrari Enzo</td>\n",
       "            <td>Classic Cars</td>\n",
       "        </tr>\n",
       "        <tr>\n",
       "            <td>S12_1666</td>\n",
       "            <td>1958 Setra Bus</td>\n",
       "            <td>Trucks and Buses</td>\n",
       "        </tr>\n",
       "        <tr>\n",
       "            <td>S12_2823</td>\n",
       "            <td>2002 Suzuki XREO</td>\n",
       "            <td>Motorcycles</td>\n",
       "        </tr>\n",
       "    </tbody>\n",
       "</table>\n",
       "<span style=\"font-style:italic;text-align:center;\">Truncated to <a href=\"https://jupysql.ploomber.io/en/latest/api/configuration.html#displaylimit\">displaylimit</a> of 10.</span>"
      ],
      "text/plain": [
       "+-------------+---------------------------------------+------------------+\n",
       "| productCode |              productName              |   productLine    |\n",
       "+-------------+---------------------------------------+------------------+\n",
       "|   S10_1678  | 1969 Harley Davidson Ultimate Chopper |   Motorcycles    |\n",
       "|   S10_1949  |        1952 Alpine Renault 1300       |   Classic Cars   |\n",
       "|   S10_2016  |         1996 Moto Guzzi 1100i         |   Motorcycles    |\n",
       "|   S10_4698  |  2003 Harley-Davidson Eagle Drag Bike |   Motorcycles    |\n",
       "|   S10_4757  |          1972 Alfa Romeo GTA          |   Classic Cars   |\n",
       "|   S10_4962  |         1962 LanciaA Delta 16V        |   Classic Cars   |\n",
       "|   S12_1099  |           1968 Ford Mustang           |   Classic Cars   |\n",
       "|   S12_1108  |           2001 Ferrari Enzo           |   Classic Cars   |\n",
       "|   S12_1666  |             1958 Setra Bus            | Trucks and Buses |\n",
       "|   S12_2823  |            2002 Suzuki XREO           |   Motorcycles    |\n",
       "+-------------+---------------------------------------+------------------+\n",
       "Truncated to displaylimit of 10."
      ]
     },
     "execution_count": 41,
     "metadata": {},
     "output_type": "execute_result"
    }
   ],
   "source": [
    "%%sql\n",
    "WITH lowstock_table AS (SELECT p.productCode\n",
    "FROM (SELECT p.productCode, p.productName, ROUND(SUM(od.quantityOrdered)/p.quantityInStock, 2) as low_stock\n",
    "      FROM products p\n",
    "      JOIN orderdetails od\n",
    "      ON p.productCode = od.productCode\n",
    "      GROUP BY p.productCode\n",
    "      ORDER BY low_stock DESC)\n",
    "),\n",
    "\n",
    "PP_table AS (SELECT productCode\n",
    "FROM (SELECT productCode, ROUND(SUM(quantityOrdered*priceEach), 2) as product_performance\n",
    "      FROM orderdetails\n",
    "      GROUP BY productCode\n",
    "      ORDER BY product_performance DESC)\n",
    ")\n",
    "\n",
    "SELECT p.productCode, p.productName, p.productLine\n",
    "FROM products p\n",
    "WHERE p.productCode in lowstock_table\n",
    "AND p.productCode in PP_table;"
   ]
  },
  {
   "cell_type": "markdown",
   "metadata": {},
   "source": [
    "Question 2: How Should we Match marketing Communication Strategies to Customer Behaviour\n",
    "\n",
    "in the first part of this project. we explored products. Now we'll explore customer intormation by answering the second question: how should we match marketing and communication strategies\n",
    "to customer behaviors? This involves categorizing customers: finding the VIP (very important person) customers and those who are less engaged.\n",
    "\n",
    "- VIP customers bring in the most profit for the store.\n",
    "- Less-engaged customers bring in less profit.\n",
    "\n",
    "Lets compute how much profit each customer generates using the following tables: 'Products', 'Orderdetails', 'Orders'."
   ]
  },
  {
   "cell_type": "code",
   "execution_count": 42,
   "metadata": {},
   "outputs": [
    {
     "data": {
      "text/html": [
       "<span style=\"None\">Running query in &#x27;sqlite:///stores.db&#x27;</span>"
      ],
      "text/plain": [
       "Running query in 'sqlite:///stores.db'"
      ]
     },
     "metadata": {},
     "output_type": "display_data"
    },
    {
     "data": {
      "text/html": [
       "<table>\n",
       "    <thead>\n",
       "        <tr>\n",
       "            <th>customerNumber</th>\n",
       "            <th>profit</th>\n",
       "        </tr>\n",
       "    </thead>\n",
       "    <tbody>\n",
       "        <tr>\n",
       "            <td>141</td>\n",
       "            <td>326519.65999999986</td>\n",
       "        </tr>\n",
       "        <tr>\n",
       "            <td>124</td>\n",
       "            <td>236769.38999999998</td>\n",
       "        </tr>\n",
       "        <tr>\n",
       "            <td>151</td>\n",
       "            <td>72370.09000000001</td>\n",
       "        </tr>\n",
       "        <tr>\n",
       "            <td>114</td>\n",
       "            <td>70311.06999999999</td>\n",
       "        </tr>\n",
       "        <tr>\n",
       "            <td>119</td>\n",
       "            <td>60875.30000000001</td>\n",
       "        </tr>\n",
       "        <tr>\n",
       "            <td>148</td>\n",
       "            <td>60477.37999999999</td>\n",
       "        </tr>\n",
       "        <tr>\n",
       "            <td>187</td>\n",
       "            <td>60095.85999999999</td>\n",
       "        </tr>\n",
       "        <tr>\n",
       "            <td>323</td>\n",
       "            <td>60013.99</td>\n",
       "        </tr>\n",
       "        <tr>\n",
       "            <td>131</td>\n",
       "            <td>58669.10000000001</td>\n",
       "        </tr>\n",
       "        <tr>\n",
       "            <td>450</td>\n",
       "            <td>55931.369999999995</td>\n",
       "        </tr>\n",
       "    </tbody>\n",
       "</table>\n",
       "<span style=\"font-style:italic;text-align:center;\">Truncated to <a href=\"https://jupysql.ploomber.io/en/latest/api/configuration.html#displaylimit\">displaylimit</a> of 10.</span>"
      ],
      "text/plain": [
       "+----------------+--------------------+\n",
       "| customerNumber |       profit       |\n",
       "+----------------+--------------------+\n",
       "|      141       | 326519.65999999986 |\n",
       "|      124       | 236769.38999999998 |\n",
       "|      151       | 72370.09000000001  |\n",
       "|      114       | 70311.06999999999  |\n",
       "|      119       | 60875.30000000001  |\n",
       "|      148       | 60477.37999999999  |\n",
       "|      187       | 60095.85999999999  |\n",
       "|      323       |      60013.99      |\n",
       "|      131       | 58669.10000000001  |\n",
       "|      450       | 55931.369999999995 |\n",
       "+----------------+--------------------+\n",
       "Truncated to displaylimit of 10."
      ]
     },
     "execution_count": 42,
     "metadata": {},
     "output_type": "execute_result"
    }
   ],
   "source": [
    "%%sql\n",
    "SELECT o.customerNumber, SUM(od.quantityOrdered * (od.priceEach - p.buyPrice)) as profit\n",
    "FROM products p\n",
    "JOIN orderdetails od \n",
    "ON p.productCode = od.productCode\n",
    "JOIN orders o \n",
    "ON od.orderNumber = o.orderNumber\n",
    "GROUP BY o.customerNumber\n",
    "ORDER BY profit DESC;"
   ]
  },
  {
   "cell_type": "markdown",
   "metadata": {},
   "source": [
    "VIP CUSTOMERS"
   ]
  },
  {
   "cell_type": "code",
   "execution_count": 43,
   "metadata": {},
   "outputs": [
    {
     "data": {
      "text/html": [
       "<span style=\"None\">Running query in &#x27;sqlite:///stores.db&#x27;</span>"
      ],
      "text/plain": [
       "Running query in 'sqlite:///stores.db'"
      ]
     },
     "metadata": {},
     "output_type": "display_data"
    },
    {
     "data": {
      "text/html": [
       "<table>\n",
       "    <thead>\n",
       "        <tr>\n",
       "            <th>contactLastName</th>\n",
       "            <th>contactFirstName</th>\n",
       "            <th>city</th>\n",
       "            <th>country</th>\n",
       "            <th>profit</th>\n",
       "        </tr>\n",
       "    </thead>\n",
       "    <tbody>\n",
       "        <tr>\n",
       "            <td>Freyre</td>\n",
       "            <td>Diego </td>\n",
       "            <td>Madrid</td>\n",
       "            <td>Spain</td>\n",
       "            <td>326519.65999999986</td>\n",
       "        </tr>\n",
       "        <tr>\n",
       "            <td>Nelson</td>\n",
       "            <td>Susan</td>\n",
       "            <td>San Rafael</td>\n",
       "            <td>USA</td>\n",
       "            <td>236769.38999999998</td>\n",
       "        </tr>\n",
       "        <tr>\n",
       "            <td>Young</td>\n",
       "            <td>Jeff</td>\n",
       "            <td>NYC</td>\n",
       "            <td>USA</td>\n",
       "            <td>72370.09000000001</td>\n",
       "        </tr>\n",
       "        <tr>\n",
       "            <td>Ferguson</td>\n",
       "            <td>Peter</td>\n",
       "            <td>Melbourne</td>\n",
       "            <td>Australia</td>\n",
       "            <td>70311.06999999999</td>\n",
       "        </tr>\n",
       "        <tr>\n",
       "            <td>Labrune</td>\n",
       "            <td>Janine </td>\n",
       "            <td>Nantes</td>\n",
       "            <td>France</td>\n",
       "            <td>60875.30000000001</td>\n",
       "        </tr>\n",
       "    </tbody>\n",
       "</table>"
      ],
      "text/plain": [
       "+-----------------+------------------+------------+-----------+--------------------+\n",
       "| contactLastName | contactFirstName |    city    |  country  |       profit       |\n",
       "+-----------------+------------------+------------+-----------+--------------------+\n",
       "|      Freyre     |      Diego       |   Madrid   |   Spain   | 326519.65999999986 |\n",
       "|      Nelson     |      Susan       | San Rafael |    USA    | 236769.38999999998 |\n",
       "|      Young      |       Jeff       |    NYC     |    USA    | 72370.09000000001  |\n",
       "|     Ferguson    |      Peter       | Melbourne  | Australia | 70311.06999999999  |\n",
       "|     Labrune     |     Janine       |   Nantes   |   France  | 60875.30000000001  |\n",
       "+-----------------+------------------+------------+-----------+--------------------+"
      ]
     },
     "execution_count": 43,
     "metadata": {},
     "output_type": "execute_result"
    }
   ],
   "source": [
    "%%sql\n",
    "\n",
    "\n",
    "WITH profit_table as (SELECT o.customerNumber, SUM(od.quantityOrdered * (od.priceEach - p.buyPrice)) as profit\n",
    "                      FROM products p\n",
    "                      JOIN orderdetails od \n",
    "                      ON p.productCode = od.productCode\n",
    "                      JOIN orders o \n",
    "                      ON od.orderNumber = o.orderNumber\n",
    "                      GROUP BY o.customerNumber\n",
    "                      ORDER BY profit DESC\n",
    "                      LIMIT 5\n",
    ")\n",
    "\n",
    "SELECT c.contactLastName, c.contactFirstName, c.city, c.country, pt.profit\n",
    "FROM customers c\n",
    "JOIN profit_table pt\n",
    "ON c.customerNumber = pt.customerNumber\n",
    ";\n",
    "\n"
   ]
  },
  {
   "cell_type": "markdown",
   "metadata": {},
   "source": [
    "LESS ENGAGED CUSTOMERS"
   ]
  },
  {
   "cell_type": "code",
   "execution_count": 44,
   "metadata": {},
   "outputs": [
    {
     "data": {
      "text/html": [
       "<span style=\"None\">Running query in &#x27;sqlite:///stores.db&#x27;</span>"
      ],
      "text/plain": [
       "Running query in 'sqlite:///stores.db'"
      ]
     },
     "metadata": {},
     "output_type": "display_data"
    },
    {
     "data": {
      "text/html": [
       "<table>\n",
       "    <thead>\n",
       "        <tr>\n",
       "            <th>contactLastName</th>\n",
       "            <th>contactFirstName</th>\n",
       "            <th>city</th>\n",
       "            <th>country</th>\n",
       "            <th>profit</th>\n",
       "        </tr>\n",
       "    </thead>\n",
       "    <tbody>\n",
       "        <tr>\n",
       "            <td>Young</td>\n",
       "            <td>Mary</td>\n",
       "            <td>Glendale</td>\n",
       "            <td>USA</td>\n",
       "            <td>2610.870000000001</td>\n",
       "        </tr>\n",
       "        <tr>\n",
       "            <td>Taylor</td>\n",
       "            <td>Leslie</td>\n",
       "            <td>Brickhaven</td>\n",
       "            <td>USA</td>\n",
       "            <td>6586.0199999999995</td>\n",
       "        </tr>\n",
       "        <tr>\n",
       "            <td>Ricotti</td>\n",
       "            <td>Franco</td>\n",
       "            <td>Milan</td>\n",
       "            <td>Italy</td>\n",
       "            <td>9532.93</td>\n",
       "        </tr>\n",
       "        <tr>\n",
       "            <td>Schmitt</td>\n",
       "            <td>Carine </td>\n",
       "            <td>Nantes</td>\n",
       "            <td>France</td>\n",
       "            <td>10063.800000000001</td>\n",
       "        </tr>\n",
       "        <tr>\n",
       "            <td>Smith</td>\n",
       "            <td>Thomas </td>\n",
       "            <td>London</td>\n",
       "            <td>UK</td>\n",
       "            <td>10868.039999999999</td>\n",
       "        </tr>\n",
       "    </tbody>\n",
       "</table>"
      ],
      "text/plain": [
       "+-----------------+------------------+------------+---------+--------------------+\n",
       "| contactLastName | contactFirstName |    city    | country |       profit       |\n",
       "+-----------------+------------------+------------+---------+--------------------+\n",
       "|      Young      |       Mary       |  Glendale  |   USA   | 2610.870000000001  |\n",
       "|      Taylor     |      Leslie      | Brickhaven |   USA   | 6586.0199999999995 |\n",
       "|     Ricotti     |      Franco      |   Milan    |  Italy  |      9532.93       |\n",
       "|     Schmitt     |     Carine       |   Nantes   |  France | 10063.800000000001 |\n",
       "|      Smith      |     Thomas       |   London   |    UK   | 10868.039999999999 |\n",
       "+-----------------+------------------+------------+---------+--------------------+"
      ]
     },
     "execution_count": 44,
     "metadata": {},
     "output_type": "execute_result"
    }
   ],
   "source": [
    "%%sql\n",
    "\n",
    "\n",
    "WITH profit_table as (SELECT o.customerNumber, SUM(od.quantityOrdered * (od.priceEach - p.buyPrice)) as profit\n",
    "                      FROM products p\n",
    "                      JOIN orderdetails od \n",
    "                      ON p.productCode = od.productCode\n",
    "                      JOIN orders o \n",
    "                      ON od.orderNumber = o.orderNumber\n",
    "                      GROUP BY o.customerNumber\n",
    "                      ORDER BY profit \n",
    "                      LIMIT 5\n",
    ")\n",
    "\n",
    "SELECT c.contactLastName, c.contactFirstName, c.city, c.country, pt.profit\n",
    "FROM customers c\n",
    "JOIN profit_table pt\n",
    "ON c.customerNumber = pt.customerNumber;"
   ]
  },
  {
   "cell_type": "markdown",
   "metadata": {},
   "source": [
    "Question 2: How much can we spend on acquiring new customers?\n",
    "\n",
    "To determine how much money we can spend acquiring new customers, we can compute the customer Lifetime value LTV which represents the average amount of money a customer generates. \n",
    "We can then determine how much we can spend on marketing."
   ]
  },
  {
   "cell_type": "code",
   "execution_count": 45,
   "metadata": {},
   "outputs": [
    {
     "data": {
      "text/html": [
       "<span style=\"None\">Running query in &#x27;sqlite:///stores.db&#x27;</span>"
      ],
      "text/plain": [
       "Running query in 'sqlite:///stores.db'"
      ]
     },
     "metadata": {},
     "output_type": "display_data"
    },
    {
     "data": {
      "text/html": [
       "<table>\n",
       "    <thead>\n",
       "        <tr>\n",
       "            <th>AVG(profit)</th>\n",
       "        </tr>\n",
       "    </thead>\n",
       "    <tbody>\n",
       "        <tr>\n",
       "            <td>39039.5943877551</td>\n",
       "        </tr>\n",
       "    </tbody>\n",
       "</table>"
      ],
      "text/plain": [
       "+------------------+\n",
       "|   AVG(profit)    |\n",
       "+------------------+\n",
       "| 39039.5943877551 |\n",
       "+------------------+"
      ]
     },
     "execution_count": 45,
     "metadata": {},
     "output_type": "execute_result"
    }
   ],
   "source": [
    "%%sql\n",
    "\n",
    "\n",
    "WITH profit_table as (SELECT o.customerNumber, SUM(od.quantityOrdered * (od.priceEach - p.buyPrice)) as profit\n",
    "                      FROM products p\n",
    "                      JOIN orderdetails od \n",
    "                      ON p.productCode = od.productCode\n",
    "                      JOIN orders o \n",
    "                      ON od.orderNumber = o.orderNumber\n",
    "                      GROUP BY o.customerNumber\n",
    "                      ORDER BY profit \n",
    ")\n",
    "\n",
    "SELECT AVG(profit)\n",
    "FROM profit_table;\n",
    "\n"
   ]
  },
  {
   "cell_type": "markdown",
   "metadata": {},
   "source": [
    "This LTV is an average profit generated by each customer over the time they have been with the business which gives us and idea and help us make predictions like if we get 50 new customers, can we guarantee (50*39039.59) amount of additional profit."
   ]
  },
  {
   "cell_type": "markdown",
   "metadata": {},
   "source": [
    "<h>CONCLUSION<h>\n",
    "\n",
    "\n",
    "PRODUCTS\n",
    "- We see that Classic cars are dominant in the results generated. Overall, the demand for classic cars is driven by a combination of emotional attachment, investment potential, and a deep appreciation for their historical and aesthetic qualities. These factors contribute to the enduring popularity of classic cars among collectors and enthusiasts making it a highly demanded product which the business should pay attention to and ensure there is a generous quantity available instock at all times.\n",
    "- For the products that are not considered low stock and high performing requires more indepth analysis to determing why customers are not buying these products so as to decide if some internal changes are needed or curated offers are necessary to boost sales or if the business needs to let go of these productlines.\n",
    "\n",
    "\n",
    "\n",
    "CUSTOMERS\n",
    "\n",
    "- VIP : It's important to recognize and appreciate the loyalty of customers to a business as this impacts the business positively in the long run. For the VIP customers, organizing exclusive events as well as rewarding them with special offers to boost their perceived feeling of importance and guarantee continued stay with the business is a good way to recognize this group of customers. \n",
    "\n",
    "- LESS ENGAGING: For the less engaging customers, curation discounted offer and time conscious bonuses can encourage them to be more active and potentially strengthen their relationship with the business. Understanding what this group of customers value more and their need would enable us curate more tailored offers as well so a little bit of research into the customer wants is highly advisable."
   ]
  }
 ],
 "metadata": {
  "kernelspec": {
   "display_name": "Python 3",
   "language": "python",
   "name": "python3"
  },
  "language_info": {
   "codemirror_mode": {
    "name": "ipython",
    "version": 3
   },
   "file_extension": ".py",
   "mimetype": "text/x-python",
   "name": "python",
   "nbconvert_exporter": "python",
   "pygments_lexer": "ipython3",
   "version": "3.11.3"
  },
  "orig_nbformat": 4
 },
 "nbformat": 4,
 "nbformat_minor": 2
}
